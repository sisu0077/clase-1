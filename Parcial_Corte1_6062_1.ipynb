{
  "cells": [
    {
      "cell_type": "code",
      "execution_count": null,
      "metadata": {
        "colab": {
          "base_uri": "https://localhost:8080/"
        },
        "id": "7dM3gIxiJybx",
        "outputId": "cf1ef445-04d5-455b-aabc-e975586a121e"
      },
      "outputs": [
        {
          "data": {
            "text/plain": [
              "2"
            ]
          },
          "execution_count": 1,
          "metadata": {},
          "output_type": "execute_result"
        }
      ],
      "source": [
        "import math\n",
        "import random\n",
        "1+1"
      ]
    },
    {
      "cell_type": "code",
      "execution_count": 80,
      "metadata": {
        "colab": {
          "base_uri": "https://localhost:8080/"
        },
        "id": "_VVvUX0cIOXH",
        "outputId": "bc9edb01-03c1-4ab7-8337-4f49034a9619"
      },
      "outputs": [
        {
          "output_type": "stream",
          "name": "stdout",
          "text": [
            "URL encriptada: ivwqu=01jjvkvd1dqp0oduv}btdug645\n",
            "Introduce la clave para desencriptar el mensaje: 1994\n",
            "Clave incorrecta. No se puede desencriptar.\n"
          ]
        }
      ],
      "source": [
        "# Paso 1: Encontrar el número entero de 4 digitos que sea la fecha en la que nació el profesor de está materia.\n",
        "# Paso 2: Se debe comentar el paso a paso de cómo se hizo para decifrar el código. En una nueva Linea de Código haciendo click en \"+ Código\"\n",
        "# Paso 3: Una vez solucionen y terminen la encriptación subir al Github el archivo con la Solución.\n",
        "# Paso 4: Poner la solucion en la pregunta en Moodle y continuar con el parcial o terminarlo.\n",
        "# Paso 5: Borrar en la linea siguiente el simbolo \"#\", y escribir al lado del \"=\" el número encontrado de 4 digitos. (Nota una forma de hacerlo es utilizando el ciclo for o el ciclo while)\n",
        "\n",
        "# edad_profesor = # Ejemplo de edad, cámbiala por la edad del profesor.\n",
        "\n",
        "edad_profesor =30\n",
        "def encriptar_url(url):\n",
        "    # Función de encriptación\n",
        "    encriptada = \"\"\n",
        "    for i in range(len(url)):\n",
        "        # Primer condicional\n",
        "        encriptada += chr(ord(url[i]) + (i % 3) + 1)\n",
        "\n",
        "    # URL encriptada para ser desencriptada después\n",
        "    print(f\"URL encriptada: {encriptada}\")\n",
        "    return encriptada\n",
        "\n",
        "def desencriptar_url(url_encriptada, clave):\n",
        "    # Verificar si la clave es igual a la edad del profesor\n",
        "    if clave != edad_profesor:\n",
        "        print(\"Clave incorrecta. No se puede desencriptar.\")\n",
        "        return None\n",
        "\n",
        "    # Si la clave es correcta, se desencripta\n",
        "    desencriptada = \"\"\n",
        "    for i in range(len(url_encriptada)):\n",
        "        # La operación inversa a la realizada en la encriptación\n",
        "        desencriptada += chr(ord(url_encriptada[i]) - (i % 3) - 1)\n",
        "\n",
        "    return desencriptada\n",
        "\n",
        "# URL\n",
        "url_original = \"https://github.com/mattzarate333\"\n",
        "url_encriptada = encriptar_url(url_original)\n",
        "\n",
        "# Para desencriptar el mensaje, el usuario debe introducir el año del profesor como clave:\n",
        "clave = int(input(\"Introduce la clave para desencriptar el mensaje: \"))\n",
        "url_desencriptada = desencriptar_url(url_encriptada, clave)\n",
        "\n",
        "if url_desencriptada:\n",
        "    print(f\"URL desencriptada: {url_desencriptada}\")\n",
        "\n",
        "\n",
        "\n",
        "# Nota: Para Obtener 50 en el parcial las preguntas de Moodel deben estar perfectas.\n",
        "# Y el código debe estar en el Git-Hub de cada estudiante de forma individual.\n",
        "# Decifrar el código antes de las 5:00pm.\n",
        "# Y dejar comentado en una nueva linea de código cómo encontró cada uno la solución.\n"
      ]
    },
    {
      "cell_type": "code",
      "source": [],
      "metadata": {
        "colab": {
          "base_uri": "https://localhost:8080/"
        },
        "id": "R4eVsJQ_S74q",
        "outputId": "171d1b88-e992-4423-bfc8-8f67004ae03e"
      },
      "execution_count": 72,
      "outputs": [
        {
          "output_type": "stream",
          "name": "stdout",
          "text": [
            "URL encriptada: ivwqu=01jjvkvd1dqp0oduv}btdug645\n",
            "Clave correcta encontrada: 30\n",
            "URL desencriptada: https://github.com/mattzarate333\n",
            "La clave correcta es: 30\n"
          ]
        }
      ]
    },
    {
      "cell_type": "code",
      "source": [
        "# Función para intentar desencriptar probando un rango de edades\n",
        "def intentar_desencriptar(url_encriptada, edad_min, edad_max):\n",
        "    for posible_clave in range(edad_min, edad_max + 1):\n",
        "        global edad_profesor\n",
        "        edad_profesor = posible_clave  # Se asigna la clave actual como edad\n",
        "        url_desencriptada = desencriptar_url(url_encriptada, posible_clave)\n",
        "        if url_desencriptada:\n",
        "            print(f\"Clave correcta encontrada: {posible_clave}\")\n",
        "            print(f\"URL desencriptada: {url_desencriptada}\")\n",
        "            return posible_clave  # Retorna la clave correcta\n",
        "    print(\"No se encontró una clave válida en el rango dado.\")\n",
        "    return None\n",
        "    # Función para intentar desencriptar probando un rango de edades\n",
        "def intentar_desencriptar(url_encriptada, edad_min, edad_max):\n",
        "    # Se recorre el rango de posibles edades (claves) desde edad_min hasta edad_max\n",
        "    for posible_clave in range(edad_min, edad_max + 1):\n",
        "\n",
        "        # Definimos que la variable 'edad_profesor' será accesible globalmente\n",
        "        global edad_profesor\n",
        "\n",
        "        # Asignamos el valor de la clave que se está probando en este momento a la variable 'edad_profesor'\n",
        "        edad_profesor = posible_clave  # Se asigna la clave actual como edad\n",
        "\n",
        "        # Intentamos desencriptar la URL utilizando la clave actual (posible_clave)\n",
        "        url_desencriptada = desencriptar_url(url_encriptada, posible_clave)\n",
        "\n",
        "        # Si la función 'desencriptar_url' devuelve un valor (la desencriptación fue exitosa)\n",
        "        if url_desencriptada:\n",
        "            # Se imprime la clave correcta encontrada\n",
        "            print(f\"Clave correcta encontrada: {posible_clave}\")\n",
        "            # Se imprime la URL desencriptada\n",
        "            print(f\"URL desencriptada: {url_desencriptada}\")\n",
        "            # Se retorna la clave correcta y se termina la función\n",
        "            return posible_clave  # Retorna la clave correcta\n",
        "\n",
        "    # Si no se encuentra una clave válida dentro del rango dado, se imprime un mensaje informando del fallo\n",
        "    print(\"No se encontró una clave válida en el rango dado.\")\n",
        "\n",
        "    # Se retorna 'None' indicando que no se encontró ninguna clave correcta\n",
        "    return None"
      ],
      "metadata": {
        "id": "eYPRAuVhUcHD"
      },
      "execution_count": null,
      "outputs": []
    }
  ],
  "metadata": {
    "colab": {
      "provenance": []
    },
    "kernelspec": {
      "display_name": "Python 3",
      "name": "python3"
    },
    "language_info": {
      "codemirror_mode": {
        "name": "ipython",
        "version": 3
      },
      "file_extension": ".py",
      "mimetype": "text/x-python",
      "name": "python",
      "nbconvert_exporter": "python",
      "pygments_lexer": "ipython3",
      "version": "3.12.1"
    }
  },
  "nbformat": 4,
  "nbformat_minor": 0
}