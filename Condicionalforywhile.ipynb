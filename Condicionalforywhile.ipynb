{
 "cells": [
  {
   "cell_type": "code",
   "execution_count": 5,
   "metadata": {},
   "outputs": [
    {
     "name": "stdout",
     "output_type": "stream",
     "text": [
      "e0!-w%,.\n"
     ]
    }
   ],
   "source": [
    "import random\n",
    "random.seed(1234)\n",
    "\n",
    "chars = '!\"#$%&()*+,-./0123456789?@ABCDEFGHIJKLMNOPQRSTUVWXYZabcdefghijklmnopqrstuvwxyz'\n",
    "password = ''\n",
    "\n",
    "lengthPW = int(input('Que longitud quieres para tu pw'))\n",
    "\n",
    "for _ in range(lengthPW):\n",
    "    \n",
    "        password += random.choice(chars)\n",
    "print(password)\n"
   ]
  },
  {
   "cell_type": "code",
   "execution_count": 3,
   "metadata": {},
   "outputs": [
    {
     "name": "stdout",
     "output_type": "stream",
     "text": [
      "Contraseña incorrecta , Introduzca una contraseña correcta\n",
      "Contraseña incorrecta , Introduzca una contraseña correcta\n",
      "Contraseña Correcta\n"
     ]
    }
   ],
   "source": [
    "contraseña = \"Computadora\"\n",
    "contador = 0\n",
    "\n",
    "while True:\n",
    "    contraseña_input = input(\"Introduzca una Contraseña\")\n",
    "    contador+=1\n",
    "    \n",
    "    if contador > 3:\n",
    "        print(\"Haz sobrepasado los intentos\")\n",
    "    elif contraseña_input == \"Computadora\":\n",
    "        print(\"Contraseña Correcta\")\n",
    "        break\n",
    "    else:\n",
    "        print(\"Contraseña incorrecta , Introduzca una contraseña correcta\")"
   ]
  }
 ],
 "metadata": {
  "kernelspec": {
   "display_name": "Python 3",
   "language": "python",
   "name": "python3"
  },
  "language_info": {
   "codemirror_mode": {
    "name": "ipython",
    "version": 3
   },
   "file_extension": ".py",
   "mimetype": "text/x-python",
   "name": "python",
   "nbconvert_exporter": "python",
   "pygments_lexer": "ipython3",
   "version": "3.11.9"
  }
 },
 "nbformat": 4,
 "nbformat_minor": 2
}
